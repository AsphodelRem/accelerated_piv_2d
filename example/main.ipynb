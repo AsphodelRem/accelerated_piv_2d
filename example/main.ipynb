{
 "cells": [
  {
   "cell_type": "markdown",
   "metadata": {},
   "source": [
    "## Example of working with accelerated_piv_cpp"
   ]
  },
  {
   "cell_type": "code",
   "execution_count": 19,
   "metadata": {},
   "outputs": [],
   "source": [
    "import os\n",
    "import matplotlib.pyplot as plt\n",
    "from PIL import Image\n",
    "\n",
    "import accelerated_piv_cpp as piv"
   ]
  },
  {
   "cell_type": "markdown",
   "metadata": {},
   "source": [
    "### Get some test images"
   ]
  },
  {
   "cell_type": "code",
   "execution_count": 11,
   "metadata": {},
   "outputs": [
    {
     "name": "stdout",
     "output_type": "stream",
     "text": [
      "data/simulationPixels0.bmp\n",
      "data/simulationPixels1.bmp\n",
      "data/simulationPixels2.bmp\n",
      "data/simulationPixels3.bmp\n",
      "data/simulationPixels4.bmp\n",
      "data/simulationPixels5.bmp\n",
      "data/simulationPixels6.bmp\n",
      "data/simulationPixels7.bmp\n",
      "data/simulationPixels8.bmp\n",
      "data/simulationPixels9.bmp\n",
      "data/simulationPixels10.bmp\n",
      "data/simulationPixels11.bmp\n"
     ]
    }
   ],
   "source": [
    "data = os.listdir('data')\n",
    "data = sorted(data, key=lambda x: int(x.split('simulationPixels')[1].split('.')[0]))\n",
    "data = list(map(lambda x: os.path.join('data', x), data))\n",
    "\n",
    "print(*data, sep='\\n')"
   ]
  },
  {
   "cell_type": "markdown",
   "metadata": {},
   "source": [
    "### Some images from our data"
   ]
  },
  {
   "cell_type": "code",
   "execution_count": null,
   "metadata": {},
   "outputs": [],
   "source": [
    "image_1 = Image.open(data[0]).convert('RGB')\n",
    "image_2 = Image.open(data[1]).convert('RGB')\n",
    "\n",
    "fig, axes = plt.subplots(1, 2, figsize=(16, 8))\n",
    "\n",
    "axes[0].imshow(image_1)\n",
    "axes[0].set_title('Image 1')\n",
    "axes[0].axis('off')\n",
    "\n",
    "axes[1].imshow(image_2)\n",
    "axes[1].set_title('Image 2')\n",
    "axes[1].axis('off')\n",
    "\n",
    "plt.show()"
   ]
  },
  {
   "cell_type": "markdown",
   "metadata": {},
   "source": [
    "### Define config"
   ]
  },
  {
   "cell_type": "code",
   "execution_count": 29,
   "metadata": {},
   "outputs": [],
   "source": [
    "image_width = image_1.width\n",
    "image_height = image_1.height\n",
    "window_size = 16\n",
    "\n",
    "config = piv.PIVParameters(image_width, image_height, window_size)"
   ]
  },
  {
   "cell_type": "markdown",
   "metadata": {},
   "source": [
    "### Define container that will store and process our data"
   ]
  },
  {
   "cell_type": "code",
   "execution_count": 30,
   "metadata": {},
   "outputs": [],
   "source": [
    "image_container = piv.ImageContainer(data, config)"
   ]
  },
  {
   "cell_type": "markdown",
   "metadata": {},
   "source": [
    "### Let's do some computations!"
   ]
  },
  {
   "cell_type": "code",
   "execution_count": 31,
   "metadata": {},
   "outputs": [],
   "source": [
    "piv.start_piv_2d(image_container, config)"
   ]
  }
 ],
 "metadata": {
  "kernelspec": {
   "display_name": "venv",
   "language": "python",
   "name": "python3"
  },
  "language_info": {
   "codemirror_mode": {
    "name": "ipython",
    "version": 3
   },
   "file_extension": ".py",
   "mimetype": "text/x-python",
   "name": "python",
   "nbconvert_exporter": "python",
   "pygments_lexer": "ipython3",
   "version": "3.11.6"
  }
 },
 "nbformat": 4,
 "nbformat_minor": 2
}
